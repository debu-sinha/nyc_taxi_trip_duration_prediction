{
 "cells": [
  {
   "cell_type": "markdown",
   "metadata": {},
   "source": [
    "# Exploratory Data Analysis"
   ]
  },
  {
   "cell_type": "markdown",
   "metadata": {},
   "source": [
    "## Reading files"
   ]
  },
  {
   "cell_type": "code",
   "execution_count": 1,
   "metadata": {},
   "outputs": [],
   "source": [
    "# importing libraries\n",
    "import pandas as pd\n",
    "import numpy as np\n",
    "import matplotlib.pyplot as plt\n",
    "import seaborn as sns"
   ]
  },
  {
   "cell_type": "code",
   "execution_count": 2,
   "metadata": {},
   "outputs": [],
   "source": [
    "#importing data\n",
    "data = pd.read_csv('nyc_taxi_trip_duration.csv')"
   ]
  },
  {
   "cell_type": "code",
   "execution_count": 3,
   "metadata": {},
   "outputs": [
    {
     "data": {
      "text/html": [
       "<div>\n",
       "<style scoped>\n",
       "    .dataframe tbody tr th:only-of-type {\n",
       "        vertical-align: middle;\n",
       "    }\n",
       "\n",
       "    .dataframe tbody tr th {\n",
       "        vertical-align: top;\n",
       "    }\n",
       "\n",
       "    .dataframe thead th {\n",
       "        text-align: right;\n",
       "    }\n",
       "</style>\n",
       "<table border=\"1\" class=\"dataframe\">\n",
       "  <thead>\n",
       "    <tr style=\"text-align: right;\">\n",
       "      <th></th>\n",
       "      <th>id</th>\n",
       "      <th>vendor_id</th>\n",
       "      <th>pickup_datetime</th>\n",
       "      <th>dropoff_datetime</th>\n",
       "      <th>passenger_count</th>\n",
       "      <th>pickup_longitude</th>\n",
       "      <th>pickup_latitude</th>\n",
       "      <th>dropoff_longitude</th>\n",
       "      <th>dropoff_latitude</th>\n",
       "      <th>store_and_fwd_flag</th>\n",
       "      <th>trip_duration</th>\n",
       "    </tr>\n",
       "  </thead>\n",
       "  <tbody>\n",
       "    <tr>\n",
       "      <th>0</th>\n",
       "      <td>id1080784</td>\n",
       "      <td>2</td>\n",
       "      <td>2016-02-29 16:40:21</td>\n",
       "      <td>2016-02-29 16:47:01</td>\n",
       "      <td>1</td>\n",
       "      <td>-73.953918</td>\n",
       "      <td>40.778873</td>\n",
       "      <td>-73.963875</td>\n",
       "      <td>40.771164</td>\n",
       "      <td>N</td>\n",
       "      <td>400</td>\n",
       "    </tr>\n",
       "    <tr>\n",
       "      <th>1</th>\n",
       "      <td>id0889885</td>\n",
       "      <td>1</td>\n",
       "      <td>2016-03-11 23:35:37</td>\n",
       "      <td>2016-03-11 23:53:57</td>\n",
       "      <td>2</td>\n",
       "      <td>-73.988312</td>\n",
       "      <td>40.731743</td>\n",
       "      <td>-73.994751</td>\n",
       "      <td>40.694931</td>\n",
       "      <td>N</td>\n",
       "      <td>1100</td>\n",
       "    </tr>\n",
       "    <tr>\n",
       "      <th>2</th>\n",
       "      <td>id0857912</td>\n",
       "      <td>2</td>\n",
       "      <td>2016-02-21 17:59:33</td>\n",
       "      <td>2016-02-21 18:26:48</td>\n",
       "      <td>2</td>\n",
       "      <td>-73.997314</td>\n",
       "      <td>40.721458</td>\n",
       "      <td>-73.948029</td>\n",
       "      <td>40.774918</td>\n",
       "      <td>N</td>\n",
       "      <td>1635</td>\n",
       "    </tr>\n",
       "    <tr>\n",
       "      <th>3</th>\n",
       "      <td>id3744273</td>\n",
       "      <td>2</td>\n",
       "      <td>2016-01-05 09:44:31</td>\n",
       "      <td>2016-01-05 10:03:32</td>\n",
       "      <td>6</td>\n",
       "      <td>-73.961670</td>\n",
       "      <td>40.759720</td>\n",
       "      <td>-73.956779</td>\n",
       "      <td>40.780628</td>\n",
       "      <td>N</td>\n",
       "      <td>1141</td>\n",
       "    </tr>\n",
       "    <tr>\n",
       "      <th>4</th>\n",
       "      <td>id0232939</td>\n",
       "      <td>1</td>\n",
       "      <td>2016-02-17 06:42:23</td>\n",
       "      <td>2016-02-17 06:56:31</td>\n",
       "      <td>1</td>\n",
       "      <td>-74.017120</td>\n",
       "      <td>40.708469</td>\n",
       "      <td>-73.988182</td>\n",
       "      <td>40.740631</td>\n",
       "      <td>N</td>\n",
       "      <td>848</td>\n",
       "    </tr>\n",
       "  </tbody>\n",
       "</table>\n",
       "</div>"
      ],
      "text/plain": [
       "          id  vendor_id      pickup_datetime     dropoff_datetime  \\\n",
       "0  id1080784          2  2016-02-29 16:40:21  2016-02-29 16:47:01   \n",
       "1  id0889885          1  2016-03-11 23:35:37  2016-03-11 23:53:57   \n",
       "2  id0857912          2  2016-02-21 17:59:33  2016-02-21 18:26:48   \n",
       "3  id3744273          2  2016-01-05 09:44:31  2016-01-05 10:03:32   \n",
       "4  id0232939          1  2016-02-17 06:42:23  2016-02-17 06:56:31   \n",
       "\n",
       "   passenger_count  pickup_longitude  pickup_latitude  dropoff_longitude  \\\n",
       "0                1        -73.953918        40.778873         -73.963875   \n",
       "1                2        -73.988312        40.731743         -73.994751   \n",
       "2                2        -73.997314        40.721458         -73.948029   \n",
       "3                6        -73.961670        40.759720         -73.956779   \n",
       "4                1        -74.017120        40.708469         -73.988182   \n",
       "\n",
       "   dropoff_latitude store_and_fwd_flag  trip_duration  \n",
       "0         40.771164                  N            400  \n",
       "1         40.694931                  N           1100  \n",
       "2         40.774918                  N           1635  \n",
       "3         40.780628                  N           1141  \n",
       "4         40.740631                  N            848  "
      ]
     },
     "execution_count": 3,
     "metadata": {},
     "output_type": "execute_result"
    }
   ],
   "source": [
    "#first 5 instances using \"head()\" function\n",
    "data.head()"
   ]
  },
  {
   "cell_type": "code",
   "execution_count": 4,
   "metadata": {},
   "outputs": [
    {
     "data": {
      "text/plain": [
       "(729322, 11)"
      ]
     },
     "execution_count": 4,
     "metadata": {},
     "output_type": "execute_result"
    }
   ],
   "source": [
    "#finding out the shape of the data using \"shape\" variable: Output (rows, columns)\n",
    "data.shape"
   ]
  },
  {
   "cell_type": "code",
   "execution_count": 5,
   "metadata": {},
   "outputs": [
    {
     "data": {
      "text/plain": [
       "Index(['id', 'vendor_id', 'pickup_datetime', 'dropoff_datetime',\n",
       "       'passenger_count', 'pickup_longitude', 'pickup_latitude',\n",
       "       'dropoff_longitude', 'dropoff_latitude', 'store_and_fwd_flag',\n",
       "       'trip_duration'],\n",
       "      dtype='object')"
      ]
     },
     "execution_count": 5,
     "metadata": {},
     "output_type": "execute_result"
    }
   ],
   "source": [
    "#Printing all the columns present in data\n",
    "data.columns"
   ]
  },
  {
   "cell_type": "markdown",
   "metadata": {},
   "source": [
    "- trip_duration is the target variable"
   ]
  },
  {
   "cell_type": "code",
   "execution_count": 21,
   "metadata": {},
   "outputs": [
    {
     "data": {
      "text/plain": [
       "id                    729322\n",
       "vendor_id                  2\n",
       "passenger_count            9\n",
       "pickup_longitude       19729\n",
       "pickup_latitude        39776\n",
       "dropoff_longitude      27892\n",
       "dropoff_latitude       53579\n",
       "store_and_fwd_flag         2\n",
       "trip_duration           6296\n",
       "hod_pickup                24\n",
       "hod_dropoff               24\n",
       "doy_pickup               182\n",
       "doy_dropoff              183\n",
       "woy_pickup                27\n",
       "woy_dropoff               27\n",
       "moy_pickup                 6\n",
       "moy_dropoff                7\n",
       "dow_pickup                 7\n",
       "dow_dropoff                7\n",
       "dtype: int64"
      ]
     },
     "execution_count": 21,
     "metadata": {},
     "output_type": "execute_result"
    }
   ],
   "source": [
    "data.nunique()"
   ]
  },
  {
   "cell_type": "markdown",
   "metadata": {},
   "source": [
    "## Variable Identification and Typecasting"
   ]
  },
  {
   "cell_type": "code",
   "execution_count": 6,
   "metadata": {},
   "outputs": [
    {
     "data": {
      "text/plain": [
       "id                     object\n",
       "vendor_id               int64\n",
       "pickup_datetime        object\n",
       "dropoff_datetime       object\n",
       "passenger_count         int64\n",
       "pickup_longitude      float64\n",
       "pickup_latitude       float64\n",
       "dropoff_longitude     float64\n",
       "dropoff_latitude      float64\n",
       "store_and_fwd_flag     object\n",
       "trip_duration           int64\n",
       "dtype: object"
      ]
     },
     "execution_count": 6,
     "metadata": {},
     "output_type": "execute_result"
    }
   ],
   "source": [
    "# A closer look at the data types present in the data\n",
    "data.dtypes"
   ]
  },
  {
   "cell_type": "markdown",
   "metadata": {},
   "source": [
    "There are a lot of variables visible at one, so let's narrow this down by looking **at one datatype at once**. We will start with int"
   ]
  },
  {
   "cell_type": "markdown",
   "metadata": {},
   "source": [
    "### Integer Data Type"
   ]
  },
  {
   "cell_type": "code",
   "execution_count": 7,
   "metadata": {},
   "outputs": [
    {
     "data": {
      "text/plain": [
       "vendor_id          int64\n",
       "passenger_count    int64\n",
       "trip_duration      int64\n",
       "dtype: object"
      ]
     },
     "execution_count": 7,
     "metadata": {},
     "output_type": "execute_result"
    }
   ],
   "source": [
    "# Identifying variables with integer datatype\n",
    "data.dtypes[data.dtypes == 'int64']"
   ]
  },
  {
   "cell_type": "markdown",
   "metadata": {},
   "source": [
    "Summary:\n",
    "\n",
    "- **vendor_id**  is a code indicating the provider associated with the trip record. It should be  **category.**\n",
    "- **passenger_count** is the number of passengers in the vehicle (driver entered value). It is **Okay as Integer.**\n",
    "- **trip_duration** is (target) duration of the trip in seconds. It is **Okay as Integer.**"
   ]
  },
  {
   "cell_type": "code",
   "execution_count": 8,
   "metadata": {},
   "outputs": [],
   "source": [
    "# typecasting \"id\" to string type\n",
    "data['vendor_id'] = data['vendor_id'].astype('category')"
   ]
  },
  {
   "cell_type": "markdown",
   "metadata": {},
   "source": [
    "### Float Data Type"
   ]
  },
  {
   "cell_type": "code",
   "execution_count": 9,
   "metadata": {},
   "outputs": [
    {
     "data": {
      "text/plain": [
       "pickup_longitude     float64\n",
       "pickup_latitude      float64\n",
       "dropoff_longitude    float64\n",
       "dropoff_latitude     float64\n",
       "dtype: object"
      ]
     },
     "execution_count": 9,
     "metadata": {},
     "output_type": "execute_result"
    }
   ],
   "source": [
    "# Identifying variables with float datatype\n",
    "data.dtypes[data.dtypes == 'float64']"
   ]
  },
  {
   "cell_type": "markdown",
   "metadata": {},
   "source": [
    "Summary:\n",
    "\n",
    "- **pickup_longitude**  the longitude where the meter was engaged. It is **Okay as Float.**\n",
    "- **pickup_latitude** the latitude where the meter was engaged. It is **Okay as Float.**\n",
    "- **dropoff_longitude** the longitude where the meter was disengaged. It is **Okay as Float.**\n",
    "- **dropoff_latitude** the latitude where the meter was disengaged. It is **Okay as Float.**"
   ]
  },
  {
   "cell_type": "markdown",
   "metadata": {},
   "source": [
    "### Object Data Type"
   ]
  },
  {
   "cell_type": "code",
   "execution_count": 10,
   "metadata": {},
   "outputs": [
    {
     "data": {
      "text/plain": [
       "id                      object\n",
       "vendor_id             category\n",
       "pickup_datetime         object\n",
       "dropoff_datetime        object\n",
       "passenger_count          int64\n",
       "pickup_longitude       float64\n",
       "pickup_latitude        float64\n",
       "dropoff_longitude      float64\n",
       "dropoff_latitude       float64\n",
       "store_and_fwd_flag      object\n",
       "trip_duration            int64\n",
       "dtype: object"
      ]
     },
     "execution_count": 10,
     "metadata": {},
     "output_type": "execute_result"
    }
   ],
   "source": [
    "data.dtypes"
   ]
  },
  {
   "cell_type": "markdown",
   "metadata": {},
   "source": [
    "*    **variables like 'pickup_datetime', 'dropoff_datetime' and 'store_and_fwd_flag' are of type object**. This means that **Pandas was not able to recognise the datatype** of these three variables."
   ]
  },
  {
   "cell_type": "code",
   "execution_count": 11,
   "metadata": {},
   "outputs": [
    {
     "data": {
      "text/html": [
       "<div>\n",
       "<style scoped>\n",
       "    .dataframe tbody tr th:only-of-type {\n",
       "        vertical-align: middle;\n",
       "    }\n",
       "\n",
       "    .dataframe tbody tr th {\n",
       "        vertical-align: top;\n",
       "    }\n",
       "\n",
       "    .dataframe thead th {\n",
       "        text-align: right;\n",
       "    }\n",
       "</style>\n",
       "<table border=\"1\" class=\"dataframe\">\n",
       "  <thead>\n",
       "    <tr style=\"text-align: right;\">\n",
       "      <th></th>\n",
       "      <th>id</th>\n",
       "      <th>pickup_datetime</th>\n",
       "      <th>dropoff_datetime</th>\n",
       "      <th>store_and_fwd_flag</th>\n",
       "    </tr>\n",
       "  </thead>\n",
       "  <tbody>\n",
       "    <tr>\n",
       "      <th>0</th>\n",
       "      <td>id1080784</td>\n",
       "      <td>2016-02-29 16:40:21</td>\n",
       "      <td>2016-02-29 16:47:01</td>\n",
       "      <td>N</td>\n",
       "    </tr>\n",
       "    <tr>\n",
       "      <th>1</th>\n",
       "      <td>id0889885</td>\n",
       "      <td>2016-03-11 23:35:37</td>\n",
       "      <td>2016-03-11 23:53:57</td>\n",
       "      <td>N</td>\n",
       "    </tr>\n",
       "    <tr>\n",
       "      <th>2</th>\n",
       "      <td>id0857912</td>\n",
       "      <td>2016-02-21 17:59:33</td>\n",
       "      <td>2016-02-21 18:26:48</td>\n",
       "      <td>N</td>\n",
       "    </tr>\n",
       "    <tr>\n",
       "      <th>3</th>\n",
       "      <td>id3744273</td>\n",
       "      <td>2016-01-05 09:44:31</td>\n",
       "      <td>2016-01-05 10:03:32</td>\n",
       "      <td>N</td>\n",
       "    </tr>\n",
       "    <tr>\n",
       "      <th>4</th>\n",
       "      <td>id0232939</td>\n",
       "      <td>2016-02-17 06:42:23</td>\n",
       "      <td>2016-02-17 06:56:31</td>\n",
       "      <td>N</td>\n",
       "    </tr>\n",
       "    <tr>\n",
       "      <th>5</th>\n",
       "      <td>id1918069</td>\n",
       "      <td>2016-02-14 18:31:42</td>\n",
       "      <td>2016-02-14 18:55:57</td>\n",
       "      <td>N</td>\n",
       "    </tr>\n",
       "    <tr>\n",
       "      <th>6</th>\n",
       "      <td>id2429028</td>\n",
       "      <td>2016-04-20 20:30:14</td>\n",
       "      <td>2016-04-20 20:36:51</td>\n",
       "      <td>N</td>\n",
       "    </tr>\n",
       "  </tbody>\n",
       "</table>\n",
       "</div>"
      ],
      "text/plain": [
       "          id      pickup_datetime     dropoff_datetime store_and_fwd_flag\n",
       "0  id1080784  2016-02-29 16:40:21  2016-02-29 16:47:01                  N\n",
       "1  id0889885  2016-03-11 23:35:37  2016-03-11 23:53:57                  N\n",
       "2  id0857912  2016-02-21 17:59:33  2016-02-21 18:26:48                  N\n",
       "3  id3744273  2016-01-05 09:44:31  2016-01-05 10:03:32                  N\n",
       "4  id0232939  2016-02-17 06:42:23  2016-02-17 06:56:31                  N\n",
       "5  id1918069  2016-02-14 18:31:42  2016-02-14 18:55:57                  N\n",
       "6  id2429028  2016-04-20 20:30:14  2016-04-20 20:36:51                  N"
      ]
     },
     "execution_count": 11,
     "metadata": {},
     "output_type": "execute_result"
    }
   ],
   "source": [
    "# Manually checking object types\n",
    "data[['id','pickup_datetime','dropoff_datetime','store_and_fwd_flag']].head(7)"
   ]
  },
  {
   "cell_type": "markdown",
   "metadata": {},
   "source": [
    "*    **id** is a unique identifier for each trip. **It should be a String**.\n",
    "*    **store_and_fwd_flag** variable **belong to categorical data type**.\n",
    "*    **pickup_datetime** and **dropoff_datetime** belong to **datetime data type**."
   ]
  },
  {
   "cell_type": "code",
   "execution_count": 12,
   "metadata": {},
   "outputs": [],
   "source": [
    "# typecasting \"id\" to string type\n",
    "data['id'] = data['id'].astype('string')"
   ]
  },
  {
   "cell_type": "code",
   "execution_count": 13,
   "metadata": {},
   "outputs": [],
   "source": [
    "# typecasting \"store_and_fwd_flag\" to category type\n",
    "data['store_and_fwd_flag'] = data['store_and_fwd_flag'].astype('category')"
   ]
  },
  {
   "cell_type": "code",
   "execution_count": 14,
   "metadata": {},
   "outputs": [
    {
     "data": {
      "text/plain": [
       "store_and_fwd_flag    category\n",
       "dtype: object"
      ]
     },
     "execution_count": 14,
     "metadata": {},
     "output_type": "execute_result"
    }
   ],
   "source": [
    "# checking\n",
    "data[['store_and_fwd_flag']].dtypes"
   ]
  },
  {
   "cell_type": "code",
   "execution_count": 15,
   "metadata": {},
   "outputs": [
    {
     "data": {
      "text/plain": [
       "id                      string\n",
       "vendor_id             category\n",
       "pickup_datetime         object\n",
       "dropoff_datetime        object\n",
       "passenger_count          int64\n",
       "pickup_longitude       float64\n",
       "pickup_latitude        float64\n",
       "dropoff_longitude      float64\n",
       "dropoff_latitude       float64\n",
       "store_and_fwd_flag    category\n",
       "trip_duration            int64\n",
       "dtype: object"
      ]
     },
     "execution_count": 15,
     "metadata": {},
     "output_type": "execute_result"
    }
   ],
   "source": [
    "data.dtypes"
   ]
  },
  {
   "cell_type": "markdown",
   "metadata": {},
   "source": [
    "### datetime Data Type"
   ]
  },
  {
   "cell_type": "code",
   "execution_count": 16,
   "metadata": {},
   "outputs": [],
   "source": [
    "# creating instances(pickup_date and dropoff_date) of DatetimeIndex class using \"pickup_datetime\" and \"dropoff_datetime\" \n",
    "pickup_date = pd.DatetimeIndex(data['pickup_datetime'])\n",
    "dropoff_date = pd.DatetimeIndex(data['dropoff_datetime'])"
   ]
  },
  {
   "cell_type": "code",
   "execution_count": 17,
   "metadata": {},
   "outputs": [],
   "source": [
    "# extracting new columns from \"pickup_datetime\" and dropoff_datetime\n",
    "\n",
    "# hour of day when trip started and ended\n",
    "data['hod_pickup'] = pickup_date.hour\n",
    "data['hod_dropoff'] = dropoff_date.hour\n",
    "\n",
    "# day of year when trip started and ended\n",
    "data['doy_pickup'] = pickup_date.dayofyear\n",
    "data['doy_dropoff'] = dropoff_date.dayofyear\n",
    "\n",
    "# week of year when trip started and ended\n",
    "data['woy_pickup'] = pd.Int64Index(pickup_date.isocalendar().week)\n",
    "data['woy_dropoff'] = pd.Int64Index(dropoff_date.isocalendar().week)\n",
    "\n",
    "# month of year when trip started and ended\n",
    "data['moy_pickup'] = pickup_date.month\n",
    "data['moy_dropoff'] = dropoff_date.month\n",
    "\n",
    "# day of week when trip started and ended\n",
    "data['dow_pickup'] = pickup_date.dayofweek\n",
    "data['dow_dropoff'] = dropoff_date.dayofweek"
   ]
  },
  {
   "cell_type": "code",
   "execution_count": 18,
   "metadata": {},
   "outputs": [
    {
     "data": {
      "text/html": [
       "<div>\n",
       "<style scoped>\n",
       "    .dataframe tbody tr th:only-of-type {\n",
       "        vertical-align: middle;\n",
       "    }\n",
       "\n",
       "    .dataframe tbody tr th {\n",
       "        vertical-align: top;\n",
       "    }\n",
       "\n",
       "    .dataframe thead th {\n",
       "        text-align: right;\n",
       "    }\n",
       "</style>\n",
       "<table border=\"1\" class=\"dataframe\">\n",
       "  <thead>\n",
       "    <tr style=\"text-align: right;\">\n",
       "      <th></th>\n",
       "      <th>pickup_datetime</th>\n",
       "      <th>dropoff_datetime</th>\n",
       "      <th>hod_pickup</th>\n",
       "      <th>doy_pickup</th>\n",
       "      <th>woy_pickup</th>\n",
       "      <th>moy_pickup</th>\n",
       "      <th>dow_pickup</th>\n",
       "      <th>hod_dropoff</th>\n",
       "      <th>doy_dropoff</th>\n",
       "      <th>woy_dropoff</th>\n",
       "      <th>moy_dropoff</th>\n",
       "      <th>dow_dropoff</th>\n",
       "    </tr>\n",
       "  </thead>\n",
       "  <tbody>\n",
       "    <tr>\n",
       "      <th>0</th>\n",
       "      <td>2016-02-29 16:40:21</td>\n",
       "      <td>2016-02-29 16:47:01</td>\n",
       "      <td>16</td>\n",
       "      <td>60</td>\n",
       "      <td>9</td>\n",
       "      <td>2</td>\n",
       "      <td>0</td>\n",
       "      <td>16</td>\n",
       "      <td>60</td>\n",
       "      <td>9</td>\n",
       "      <td>2</td>\n",
       "      <td>0</td>\n",
       "    </tr>\n",
       "    <tr>\n",
       "      <th>1</th>\n",
       "      <td>2016-03-11 23:35:37</td>\n",
       "      <td>2016-03-11 23:53:57</td>\n",
       "      <td>23</td>\n",
       "      <td>71</td>\n",
       "      <td>10</td>\n",
       "      <td>3</td>\n",
       "      <td>4</td>\n",
       "      <td>23</td>\n",
       "      <td>71</td>\n",
       "      <td>10</td>\n",
       "      <td>3</td>\n",
       "      <td>4</td>\n",
       "    </tr>\n",
       "    <tr>\n",
       "      <th>2</th>\n",
       "      <td>2016-02-21 17:59:33</td>\n",
       "      <td>2016-02-21 18:26:48</td>\n",
       "      <td>17</td>\n",
       "      <td>52</td>\n",
       "      <td>7</td>\n",
       "      <td>2</td>\n",
       "      <td>6</td>\n",
       "      <td>18</td>\n",
       "      <td>52</td>\n",
       "      <td>7</td>\n",
       "      <td>2</td>\n",
       "      <td>6</td>\n",
       "    </tr>\n",
       "    <tr>\n",
       "      <th>3</th>\n",
       "      <td>2016-01-05 09:44:31</td>\n",
       "      <td>2016-01-05 10:03:32</td>\n",
       "      <td>9</td>\n",
       "      <td>5</td>\n",
       "      <td>1</td>\n",
       "      <td>1</td>\n",
       "      <td>1</td>\n",
       "      <td>10</td>\n",
       "      <td>5</td>\n",
       "      <td>1</td>\n",
       "      <td>1</td>\n",
       "      <td>1</td>\n",
       "    </tr>\n",
       "    <tr>\n",
       "      <th>4</th>\n",
       "      <td>2016-02-17 06:42:23</td>\n",
       "      <td>2016-02-17 06:56:31</td>\n",
       "      <td>6</td>\n",
       "      <td>48</td>\n",
       "      <td>7</td>\n",
       "      <td>2</td>\n",
       "      <td>2</td>\n",
       "      <td>6</td>\n",
       "      <td>48</td>\n",
       "      <td>7</td>\n",
       "      <td>2</td>\n",
       "      <td>2</td>\n",
       "    </tr>\n",
       "  </tbody>\n",
       "</table>\n",
       "</div>"
      ],
      "text/plain": [
       "       pickup_datetime     dropoff_datetime  hod_pickup  doy_pickup  \\\n",
       "0  2016-02-29 16:40:21  2016-02-29 16:47:01          16          60   \n",
       "1  2016-03-11 23:35:37  2016-03-11 23:53:57          23          71   \n",
       "2  2016-02-21 17:59:33  2016-02-21 18:26:48          17          52   \n",
       "3  2016-01-05 09:44:31  2016-01-05 10:03:32           9           5   \n",
       "4  2016-02-17 06:42:23  2016-02-17 06:56:31           6          48   \n",
       "\n",
       "   woy_pickup  moy_pickup  dow_pickup  hod_dropoff  doy_dropoff  woy_dropoff  \\\n",
       "0           9           2           0           16           60            9   \n",
       "1          10           3           4           23           71           10   \n",
       "2           7           2           6           18           52            7   \n",
       "3           1           1           1           10            5            1   \n",
       "4           7           2           2            6           48            7   \n",
       "\n",
       "   moy_dropoff  dow_dropoff  \n",
       "0            2            0  \n",
       "1            3            4  \n",
       "2            2            6  \n",
       "3            1            1  \n",
       "4            2            2  "
      ]
     },
     "execution_count": 18,
     "metadata": {},
     "output_type": "execute_result"
    }
   ],
   "source": [
    "# checking new extracted columns using datetime\n",
    "data[['pickup_datetime','dropoff_datetime', 'hod_pickup','doy_pickup','woy_pickup','moy_pickup', 'dow_pickup',\n",
    "     'hod_dropoff','doy_dropoff','woy_dropoff','moy_dropoff', 'dow_dropoff']].head()"
   ]
  },
  {
   "cell_type": "markdown",
   "metadata": {},
   "source": [
    "The first 2 columns are the complete date time when the trip started/ended.\n",
    "\n",
    "The next columns represent the hour of the day, day of year, week of year, month of year, day of week when the trip started. The remaining columns represent the hour of the day, day of year, week of year, month of year, day of week when the trip started\n",
    "\n",
    "**Breaking down the date variable** into these granular information will **help us in understand when the trip was done from different perspectives**. Now that we have extracted the essentials from the pickup_datetime and dropoff_datetime variables, we will drop it from the dataset."
   ]
  },
  {
   "cell_type": "code",
   "execution_count": 19,
   "metadata": {},
   "outputs": [
    {
     "data": {
      "text/plain": [
       "id                      string\n",
       "vendor_id             category\n",
       "passenger_count          int64\n",
       "pickup_longitude       float64\n",
       "pickup_latitude        float64\n",
       "dropoff_longitude      float64\n",
       "dropoff_latitude       float64\n",
       "store_and_fwd_flag    category\n",
       "trip_duration            int64\n",
       "hod_pickup               int64\n",
       "hod_dropoff              int64\n",
       "doy_pickup               int64\n",
       "doy_dropoff              int64\n",
       "woy_pickup               int64\n",
       "woy_dropoff              int64\n",
       "moy_pickup               int64\n",
       "moy_dropoff              int64\n",
       "dow_pickup               int64\n",
       "dow_dropoff              int64\n",
       "dtype: object"
      ]
     },
     "execution_count": 19,
     "metadata": {},
     "output_type": "execute_result"
    }
   ],
   "source": [
    "data = data.drop(columns = ['pickup_datetime', 'dropoff_datetime'])\n",
    "data.dtypes"
   ]
  },
  {
   "cell_type": "markdown",
   "metadata": {},
   "source": [
    "## Univariate Analysis: Numerical Variables"
   ]
  },
  {
   "cell_type": "code",
   "execution_count": 20,
   "metadata": {},
   "outputs": [
    {
     "data": {
      "text/plain": [
       "passenger_count        int64\n",
       "pickup_longitude     float64\n",
       "pickup_latitude      float64\n",
       "dropoff_longitude    float64\n",
       "dropoff_latitude     float64\n",
       "trip_duration          int64\n",
       "hod_pickup             int64\n",
       "hod_dropoff            int64\n",
       "doy_pickup             int64\n",
       "doy_dropoff            int64\n",
       "woy_pickup             int64\n",
       "woy_dropoff            int64\n",
       "moy_pickup             int64\n",
       "moy_dropoff            int64\n",
       "dow_pickup             int64\n",
       "dow_dropoff            int64\n",
       "dtype: object"
      ]
     },
     "execution_count": 20,
     "metadata": {},
     "output_type": "execute_result"
    }
   ],
   "source": [
    "# Numerical datatypes\n",
    "data.select_dtypes(include=['int64','float64','Int64']).dtypes"
   ]
  },
  {
   "cell_type": "code",
   "execution_count": null,
   "metadata": {},
   "outputs": [],
   "source": [
    "# seggregating variables into groups\n",
    "trip_detail = ['passenger_count','trip_duration', 'hod_pickup', 'doy_pickup']\n",
    "trip_points = ['pickup_longitude', 'pickup_latitude', 'dropoff_longitude', 'dropoff_latitude']"
   ]
  },
  {
   "cell_type": "code",
   "execution_count": null,
   "metadata": {},
   "outputs": [],
   "source": [
    "# custom function for easy and efficient analysis of numerical univariate\n",
    "\n",
    "def UVA_numeric(data, var_group):\n",
    "  '''\n",
    "  Univariate_Analysis_numeric\n",
    "  takes a group of variables (INTEGER and FLOAT) and plot/print all the descriptives and properties along with KDE.\n",
    "\n",
    "  Runs a loop: calculate all the descriptives of i(th) variable and plot/print it\n",
    "  '''\n",
    "\n",
    "  size = len(var_group)\n",
    "  plt.figure(figsize = (7*size,3), dpi = 100)\n",
    "  \n",
    "  #looping for each variable\n",
    "  for j,i in enumerate(var_group):\n",
    "    \n",
    "    # calculating descriptives of variable\n",
    "    mini = data[i].min()\n",
    "    maxi = data[i].max()\n",
    "    ran = data[i].max()-data[i].min()\n",
    "    mean = data[i].mean()\n",
    "    median = data[i].median()\n",
    "    st_dev = data[i].std()\n",
    "    skew = data[i].skew()\n",
    "    kurt = data[i].kurtosis()\n",
    "\n",
    "    # calculating points of standard deviation\n",
    "    points = mean-st_dev, mean+st_dev\n",
    "\n",
    "    #Plotting the variable with every information\n",
    "    plt.subplot(1,size,j+1)\n",
    "    sns.kdeplot(data[i], shade=True)\n",
    "    sns.lineplot(points, [0,0], color = 'black', label = \"std_dev\")\n",
    "    sns.scatterplot([mini,maxi], [0,0], color = 'orange', label = \"min/max\")\n",
    "    sns.scatterplot([mean], [0], color = 'red', label = \"mean\")\n",
    "    sns.scatterplot([median], [0], color = 'blue', label = \"median\")\n",
    "    plt.xlabel('{}'.format(i), fontsize = 20)\n",
    "    plt.ylabel('density')\n",
    "    plt.title('std_dev = {}; kurtosis = {};\\nskew = {}; range = {}\\nmean = {}; median = {}'.format((round(points[0],2),round(points[1],2)),\n",
    "                                                                                                   round(kurt,2),\n",
    "       "
   ]
  }
 ],
 "metadata": {
  "kernelspec": {
   "display_name": "py37_6",
   "language": "python",
   "name": "yourenvname"
  },
  "language_info": {
   "codemirror_mode": {
    "name": "ipython",
    "version": 3
   },
   "file_extension": ".py",
   "mimetype": "text/x-python",
   "name": "python",
   "nbconvert_exporter": "python",
   "pygments_lexer": "ipython3",
   "version": "3.7.8"
  }
 },
 "nbformat": 4,
 "nbformat_minor": 4
}
